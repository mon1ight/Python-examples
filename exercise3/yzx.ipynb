{
 "cells": [
  {
   "cell_type": "code",
   "execution_count": 12,
   "metadata": {},
   "outputs": [
    {
     "name": "stderr",
     "output_type": "stream",
     "text": [
      "[nltk_data] Downloading package punkt to\n",
      "[nltk_data]     C:\\Users\\12552\\AppData\\Roaming\\nltk_data...\n",
      "[nltk_data]   Package punkt is already up-to-date!\n",
      "[nltk_data] Downloading package stopwords to\n",
      "[nltk_data]     C:\\Users\\12552\\AppData\\Roaming\\nltk_data...\n",
      "[nltk_data]   Package stopwords is already up-to-date!\n",
      "[nltk_data] Downloading package averaged_perceptron_tagger to\n",
      "[nltk_data]     C:\\Users\\12552\\AppData\\Roaming\\nltk_data...\n",
      "[nltk_data]   Package averaged_perceptron_tagger is already up-to-\n",
      "[nltk_data]       date!\n",
      "[nltk_data] Downloading package vader_lexicon to\n",
      "[nltk_data]     C:\\Users\\12552\\AppData\\Roaming\\nltk_data...\n",
      "[nltk_data]   Package vader_lexicon is already up-to-date!\n"
     ]
    },
    {
     "name": "stdout",
     "output_type": "stream",
     "text": [
      "NN: 27041\n",
      "JJ: 20512\n",
      "NNP: 10509\n",
      "NNS: 10173\n",
      "RB: 8525\n",
      "[(('one', 'CD'), 875), (('like', 'IN'), 549), (('upon', 'IN'), 500), (('Ahab', 'NNP'), 496), (('man', 'NN'), 472), (('old', 'JJ'), 429), (('would', 'MD'), 425), (('whale', 'JJ'), 394), (('whale', 'NN'), 345), (('sea', 'NN'), 336), (('though', 'IN'), 329), (('time', 'NN'), 316), (('said', 'VBD'), 302), (('ship', 'NN'), 302), (('still', 'RB'), 299), (('yet', 'RB'), 297), (('great', 'JJ'), 290), (('must', 'MD'), 283), (('two', 'CD'), 275), (('last', 'JJ'), 275)]\n",
      "['one', 'like', 'upon', 'Ahab', 'man', 'old', 'would', 'whale', 'whale', 'sea', 'though', 'time', 'say', 'ship', 'still', 'yet', 'great', 'must', 'two', 'last']\n"
     ]
    },
    {
     "data": {
      "image/png": "[encoded data removed]",
      "text/plain": [
       "<Figure size 640x480 with 1 Axes>"
      ]
     },
     "metadata": {},
     "output_type": "display_data"
    },
    {
     "name": "stdout",
     "output_type": "stream",
     "text": [
      "Average Sentiment Score: -3.0044660982541615e-05\n",
      "Overall Text Sentiment: negative\n"
     ]
    }
   ],
   "source": [
    "import nltk\n",
    "from nltk.corpus import gutenberg\n",
    "from nltk.tokenize import word_tokenize\n",
    "from nltk.corpus import stopwords\n",
    "from nltk import FreqDist\n",
    "from nltk.stem import WordNetLemmatizer\n",
    "import matplotlib.pyplot as plt\n",
    "import string\n",
    "from nltk import pos_tag\n",
    "from collections import Counter\n",
    "from nltk.sentiment.vader import SentimentIntensityAnalyzer\n",
    "from nltk.tokenize import sent_tokenize\n",
    "import re\n",
    "nltk.download('punkt') \n",
    "nltk.download('stopwords')\n",
    "nltk.download('averaged_perceptron_tagger')\n",
    "nltk.download('vader_lexicon')\n",
    "# Read the Moby Dick file from the Gutenberg dataset\n",
    "moby_dick = gutenberg.raw('melville-moby_dick.txt')\n",
    "tokens = word_tokenize(moby_dick)\n",
    "tokens = [word for word in tokens if word not in string.punctuation]\n",
    "# remove tokens like '--', '''','``','s''3\n",
    "tokens = [token for token in tokens if not re.match(r\"[-'`]|s''\\d\", token)]\n",
    "stop_words = set(stopwords.words('english'))\n",
    "filtered_tokens = [w for w in tokens if not w in stop_words]\n",
    "filtered_tokens = [w for w in filtered_tokens if w.lower() not in stop_words]\n",
    "pos_tagged_tokens = pos_tag(filtered_tokens)\n",
    "pos_tags = [tag for _, tag in pos_tagged_tokens]\n",
    "pos_freq = Counter(pos_tags)\n",
    "top_five_pos = pos_freq.most_common(5)\n",
    "for pos, freq in top_five_pos:\n",
    "    print(f\"{pos}: {freq}\")\n",
    "pos_tag_mapping = {\n",
    "    'NNS': 'n',  # Noun, plural\n",
    "    'VBG': 'v',  # Verb, gerund or present participle\n",
    "    'NN': 'n',   # Noun, singular or mass\n",
    "    'VBD': 'v',  # Verb, past tense\n",
    "    'VBN': 'v',  # Verb, past participle\n",
    "    'JJ': 'a',   # Adjective\n",
    "    'VBZ': 'v',  # Verb, 3rd person singular present\n",
    "    'VBP': 'v',  # Verb, non-3rd person singular present\n",
    "    'RB': 'r',   # Adverb\n",
    "    'NNP': 'n',  # Proper noun, singular\n",
    "    'VB': 'v',   # Verb, base form\n",
    "    'IN': 'n',   # Preposition or subordinating conjunction\n",
    "    'PRP': 'n',  # Personal pronoun\n",
    "    'PRP$': 'n', # Possessive pronoun\n",
    "    'JJR': 'a',  # Adjective, comparative\n",
    "    'JJS': 'a',  # Adjective, superlative\n",
    "    'CD': 'n',   # Cardinal number\n",
    "    'MD': 'v',   # Modal\n",
    "    'VBG': 'v',  # Verb, gerund or present participle\n",
    "    'RBR': 'r',  # Adverb, comparative\n",
    "    'RBS': 'r',  # Adverb, superlative\n",
    "    'WP': 'n',   # Wh-pronoun\n",
    "    'WRB': 'r',  # Wh-adverb\n",
    "}\n",
    "\n",
    "# Assuming you have already defined 'pos_tagged_tokens' list\n",
    "\n",
    "# Extract the top 20 tokens\n",
    "top_20_tokens = Counter(pos_tagged_tokens).most_common(20)\n",
    "\n",
    "# Create a lemmatizer instance\n",
    "lemmatizer = WordNetLemmatizer()\n",
    "\n",
    "# Lemmatize the top 20 tokens and remove punctuation\n",
    "lemmatized_tokens = [lemmatizer.lemmatize(token, pos=pos_tag_mapping[pos]) for (token, pos), count in top_20_tokens if pos in pos_tag_mapping and not all(char in string.punctuation for char in token)]\n",
    "\n",
    "# Print the lemmatized tokens\n",
    "print(top_20_tokens)\n",
    "print(lemmatized_tokens)\n",
    "plt.bar(pos_freq.keys(), pos_freq.values())\n",
    "plt.show()\n",
    "sia = SentimentIntensityAnalyzer()\n",
    "sentence = sent_tokenize(moby_dick)\n",
    "for i in sentence:\n",
    "    score = 0\n",
    "    score += sia.polarity_scores(i)['compound']\n",
    "avg_score = score / len(sentence)\n",
    "if avg_score > 0.05:\n",
    "    overall_sentiment = 'positive'\n",
    "else:\n",
    "    overall_sentiment = 'negative'\n",
    "print(\"Average Sentiment Score:\", avg_score)\n",
    "print(\"Overall Text Sentiment:\", overall_sentiment)\n",
    "\n",
    "\n"
   ]
  }
 ],
 "metadata": {
  "kernelspec": {
   "display_name": "yd",
   "language": "python",
   "name": "python3"
  },
  "language_info": {
   "codemirror_mode": {
    "name": "ipython",
    "version": 3
   },
   "file_extension": ".py",
   "mimetype": "text/x-python",
   "name": "python",
   "nbconvert_exporter": "python",
   "pygments_lexer": "ipython3",
   "version": "3.9.17"
  },
  "orig_nbformat": 4
 },
 "nbformat": 4,
 "nbformat_minor": 2
}

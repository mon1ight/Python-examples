{
 "cells": [
  {
   "cell_type": "code",
   "execution_count": 1,
   "metadata": {},
   "outputs": [
    {
     "name": "stdout",
     "output_type": "stream",
     "text": [
      "Search for movies by name, year, or rating.\n",
      "Enter 1 to search by name, 2 to search by year, 3 to search by rating, or 4 to quit.\n",
      "Invalid choice.\n",
      "Search for movies by name, year, or rating.\n",
      "Enter 1 to search by name, 2 to search by year, 3 to search by rating, or 4 to quit.\n",
      "Invalid choice.\n",
      "Search for movies by name, year, or rating.\n",
      "Enter 1 to search by name, 2 to search by year, 3 to search by rating, or 4 to quit.\n",
      "Invalid choice.\n",
      "Search for movies by name, year, or rating.\n",
      "Enter 1 to search by name, 2 to search by year, 3 to search by rating, or 4 to quit.\n",
      "Invalid choice.\n",
      "Search for movies by name, year, or rating.\n",
      "Enter 1 to search by name, 2 to search by year, 3 to search by rating, or 4 to quit.\n",
      "Invalid choice.\n",
      "Search for movies by name, year, or rating.\n",
      "Enter 1 to search by name, 2 to search by year, 3 to search by rating, or 4 to quit.\n"
     ]
    }
   ],
   "source": [
    "import sqlite3\n",
    "\n",
    "# Connect to the database\n",
    "conn = sqlite3.connect('stephen_king_adaptations.db')\n",
    "c = conn.cursor()\n",
    "\n",
    "# Create the table\n",
    "c.execute(\"CREATE TABLE IF NOT EXISTS stephen_king_adaptations_table (movieID text, movieName text, movieYear integer, imdbRating real)\")\n",
    "\n",
    "# Insert data into the table\n",
    "with open('stephen_king_adaptations.txt', 'r') as f:\n",
    "    for line in f:\n",
    "        movieID, movieName, movieYear, imdbRating = line.split(',')\n",
    "        c.execute(\"INSERT INTO stephen_king_adaptations_table VALUES (?, ?, ?, ?)\", (movieID, movieName, movieYear, imdbRating))\n",
    "\n",
    "# Search for movies by name, year, or rating\n",
    "while True:\n",
    "    print(\"Search for movies by name, year, or rating.\")\n",
    "    print(\"Enter 1 to search by name, 2 to search by year, 3 to search by rating, or 4 to quit.\")\n",
    "    choice = input(\"> \")\n",
    "    if choice == \"1\":\n",
    "        # Search by name\n",
    "        name = input(\"Enter the name of the movie: \")\n",
    "        c.execute(\"SELECT * FROM stephen_king_adaptations_table WHERE movieName LIKE '%\" + name + \"%'\")\n",
    "        results = c.fetchall()\n",
    "        if len(results) > 0:\n",
    "            print(\"Here are the movies with the name you entered:\")\n",
    "            for result in results:\n",
    "                print(result[1])\n",
    "        else:\n",
    "            print(\"No movies with that name were found.\")\n",
    "    elif choice == \"2\":\n",
    "        # Search by year\n",
    "        year = input(\"Enter the year of the movie: \")\n",
    "        c.execute(\"SELECT * FROM stephen_king_adaptations_table WHERE movieYear = ?\", (year,))\n",
    "        results = c.fetchall()\n",
    "        if len(results) > 0:\n",
    "            print(\"Here are the movies from the year you entered:\")\n",
    "            for result in results:\n",
    "                print(result[1])\n",
    "        else:\n",
    "            print(\"No movies from that year were found.\")\n",
    "    elif choice == \"3\":\n",
    "        # Search by rating\n",
    "        rating = input(\"Enter the minimum rating of the movie: \")\n",
    "        c.execute(\"SELECT * FROM stephen_king_adaptations_table WHERE imdbRating >= ?\", (rating,))\n",
    "        results = c.fetchall()\n",
    "        if len(results) > 0:\n",
    "            print(\"Here are the movies with the rating you entered:\")\n",
    "            for result in results:\n",
    "                print(result[1])\n",
    "        else:\n",
    "            print(\"No movies with that rating were found.\")\n",
    "    elif choice == \"4\":\n",
    "        break\n",
    "    else:\n",
    "        print(\"Invalid choice.\")\n",
    "\n",
    "# Close the connection\n",
    "conn.close()"
   ]
  }
 ],
 "metadata": {
  "kernelspec": {
   "display_name": "yd",
   "language": "python",
   "name": "python3"
  },
  "language_info": {
   "codemirror_mode": {
    "name": "ipython",
    "version": 3
   },
   "file_extension": ".py",
   "mimetype": "text/x-python",
   "name": "python",
   "nbconvert_exporter": "python",
   "pygments_lexer": "ipython3",
   "version": "3.8.10"
  },
  "orig_nbformat": 4
 },
 "nbformat": 4,
 "nbformat_minor": 2
}

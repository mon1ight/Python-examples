{
 "cells": [
  {
   "cell_type": "code",
   "execution_count": 24,
   "metadata": {},
   "outputs": [
    {
     "name": "stdout",
     "output_type": "stream",
     "text": [
      "9\n",
      "It's marvellous how my dog thinks every knock on the door is for him - he must think he's the most popular guy in the neighborhood! It's also pathetic how he can sleep all day and yet, the minute I try to take a nap, he decides it's playtime. The marvellous thing is, no matter how many times I explain it to him, he still doesn't understand the concept of 'personal space.' It's pathetic how he can find the one spot of mud in an entire field and roll in it. And it's even more marvellous how he can smell food from a mile away, yet can't find the toy I just threw for him. It's pathetic how he can hear a wrapper from three rooms away, but suddenly goes deaf when I call his name. The most marvellous thing of all is how, despite all these quirks, he's still the most pathetic companion I could ask for. It's simply marvellous!\n"
     ]
    }
   ],
   "source": [
    "import pandas as pd\n",
    "file_path = \"file_to_read.txt\"  \n",
    "\n",
    "\n",
    "with open(file_path, \"r\") as file:\n",
    "    lines = file.readlines()\n",
    "\n",
    "for line in lines:\n",
    "    data = line.strip()\n",
    "\n",
    "copied_data = data\n",
    "print(data.count('terrible'))\n",
    "\n",
    "for index in range(len(data)):\n",
    "    if data[index:index+8] == 'terrible':\n",
    "        if data[0:index].count('terrible') % 2 == 1:\n",
    "            copied_data = copied_data[:index] + 'pathetic' + copied_data[index + len('terrible'):]\n",
    "\n",
    "copied_data = copied_data.replace('terrible', 'marvellous')\n",
    "print(copied_data)\n",
    "\n",
    "with open('result.txt', 'w') as file:\n",
    "    file.write(copied_data)\n",
    "\n"
   ]
  }
 ],
 "metadata": {
  "kernelspec": {
   "display_name": "dd",
   "language": "python",
   "name": "python3"
  },
  "language_info": {
   "codemirror_mode": {
    "name": "ipython",
    "version": 3
   },
   "file_extension": ".py",
   "mimetype": "text/x-python",
   "name": "python",
   "nbconvert_exporter": "python",
   "pygments_lexer": "ipython3",
   "version": "3.7.16"
  },
  "orig_nbformat": 4
 },
 "nbformat": 4,
 "nbformat_minor": 2
}
